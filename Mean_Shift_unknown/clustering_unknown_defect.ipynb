{
 "cells": [
  {
   "cell_type": "markdown",
   "metadata": {},
   "source": [
    "# Mean Shift Clustering\n",
    "## Author: [Jeremiah Croshaw](https://linktr.ee/jeremiahcroshaw)\n",
    "#### Last Edited: Sept 23 2020\n",
    "\n",
    "Since this code was written while employed by [Quantum Silicon Inc.](https://www.quantumsilicon.com/), I have been advised to share it under the GNU-GPL\n",
    "***\n",
    "Copyright (C) 2020  Jeremiah Croshaw\n",
    "\n",
    "This program is free software; you can redistribute it and/or\n",
    "modify it under the terms of the GNU General Public License\n",
    "as published by the Free Software Foundation; version 2\n",
    "of the License.\n",
    "\n",
    "This program is distributed in the hope that it will be useful,\n",
    "but WITHOUT ANY WARRANTY; without even the implied warranty of\n",
    "MERCHANTABILITY or FITNESS FOR A PARTICULAR PURPOSE.  See the\n",
    "GNU General Public License for more details.\n",
    "\n",
    "You should have received a copy of the GNU General Public License\n",
    "along with this program; if not, write to the Free Software\n",
    "Foundation, Inc., 51 Franklin Street, Fifth Floor, Boston, MA  02110-1301, USA.\n",
    "***\n",
    "\n",
    "### This code demonstrates unsupervised learning of defects for further segmentation of the 'unknown' defect class.  Further detials and results will be presented in Croshaw's PhD Thesis\n",
    "\n",
    "\n",
    "### This code was developed for follow up work to our [published work](https://iopscience.iop.org/article/10.1088/2632-2153/ab6d5e) on defect segmentation of scanning probe images of the H-Si(100) surface.  \n",
    "\n",
    "\n",
    "author corresponence: croshaw@ualberta.ca"
   ]
  },
  {
   "cell_type": "code",
   "execution_count": 9,
   "metadata": {},
   "outputs": [
    {
     "name": "stdout",
     "output_type": "stream",
     "text": [
      "['unknown']\n",
      "(703, 40, 40)\n",
      "bandwidth 7020\n",
      "number of unique labels (28,)\n",
      "number of each element [259 190 180   2   2   5   2   2   2   2   2   4   2   2   2   2   2   2\n",
      "   3   2   2   4   2   2  21   1   1   1]\n",
      "(28,)\n"
     ]
    }
   ],
   "source": [
    "import h5py\n",
    "import matplotlib.pyplot as plt\n",
    "import numpy as np\n",
    "import cv2\n",
    "import os\n",
    "\n",
    "from sklearn.cluster import MeanShift\n",
    "\n",
    "\n",
    "def normalize(image): # just normalizes the image if needed.\n",
    "    image=np.abs(image)\n",
    "    image=image-image.min()\n",
    "    image=image/image.max()\n",
    "    return image\n",
    "\n",
    "f = h5py.File(\"unknown_pure.h5\")\n",
    "\n",
    "print(list(f.keys()))\n",
    "data = list(f[\"unknown\"])\n",
    "images = np.asarray(data)\n",
    "data = np.asarray(data)\n",
    "\n",
    "print(data.shape)\n",
    "data_star = np.resize(data,(data.shape[0],1600)) # resized to a 2d array from a 3d array.\n",
    "# here is the perfect oportunity to introduce more filter options or image processing.\n",
    "\n",
    "\n",
    "#here we cluster.  The key variable is bandwidth, which is an estimate for the distance between kernels (or blobs in the data)\n",
    "#the optimized value of this will change based on the features and data type.\n",
    "clustering = MeanShift(bandwidth = 1470).fit(data_star) \n",
    "\n",
    "labels = clustering.labels_\n",
    "#print(labels)\n",
    "labels_unique, count_unique = np.unique(labels, return_counts = True)\n",
    "print(\"number of unique labels\",labels_unique.shape)\n",
    "print(\"number of each element\",count_unique) # how many entries you got in each entry.  As you can see it is very heavy on three elements.\n",
    "print(count_unique.shape) # this is how many unique clusters you ended up with\n",
    "\n",
    "##############################\n",
    "# saving the defects to the respective class\n",
    "#for x in range(0,703):\n",
    "#    label = clustering.predict(data_star[x].reshape(1,-1))\n",
    "#    if not os.path.exists('.\\\\1470\\\\'+ str(label)):\n",
    "#        os.makedirs('.\\\\1470\\\\'+ str(label))\n",
    "#    cv2.imwrite('.\\\\1470\\\\'+str(label)+'\\\\'+str(label) + '_'+ str(x) + '.png',data_star[x].reshape(40,40))\n",
    "##############################\n",
    "\n"
   ]
  }
 ],
 "metadata": {
  "kernelspec": {
   "display_name": "Python 3",
   "language": "python",
   "name": "python3"
  },
  "language_info": {
   "codemirror_mode": {
    "name": "ipython",
    "version": 3
   },
   "file_extension": ".py",
   "mimetype": "text/x-python",
   "name": "python",
   "nbconvert_exporter": "python",
   "pygments_lexer": "ipython3",
   "version": "3.6.7"
  }
 },
 "nbformat": 4,
 "nbformat_minor": 2
}
